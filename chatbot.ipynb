{
  "nbformat": 4,
  "nbformat_minor": 0,
  "metadata": {
    "colab": {
      "provenance": [],
      "authorship_tag": "ABX9TyOuGLEy8XmkQOu2LxkAgx6V",
      "include_colab_link": true
    },
    "kernelspec": {
      "name": "python3",
      "display_name": "Python 3"
    },
    "language_info": {
      "name": "python"
    }
  },
  "cells": [
    {
      "cell_type": "markdown",
      "metadata": {
        "id": "view-in-github",
        "colab_type": "text"
      },
      "source": [
        "<a href=\"https://colab.research.google.com/github/ananyadix/chatbot/blob/main/chatbot.ipynb\" target=\"_parent\"><img src=\"https://colab.research.google.com/assets/colab-badge.svg\" alt=\"Open In Colab\"/></a>"
      ]
    },
    {
      "cell_type": "code",
      "execution_count": 6,
      "metadata": {
        "id": "hB3nf3KSZGJS"
      },
      "outputs": [],
      "source": [
        "import json\n",
        "\n",
        "data = {\n",
        "    \"intents\": [\n",
        "        {\n",
        "            \"tag\": \"greeting\",\n",
        "            \"patterns\": [\"Hi\", \"Hello\", \"How are you?\", \"Is anyone there?\", \"Good day\"],\n",
        "            \"responses\": [\"Hello!\", \"Hi there!\", \"Greetings!\", \"How can I assist you?\"]\n",
        "        },\n",
        "        {\n",
        "            \"tag\": \"goodbye\",\n",
        "            \"patterns\": [\"Bye\", \"See you later\", \"Goodbye\"],\n",
        "            \"responses\": [\"Goodbye!\", \"See you later!\", \"Have a great day!\"]\n",
        "        },\n",
        "        {\n",
        "            \"tag\": \"thanks\",\n",
        "            \"patterns\": [\"Thanks\", \"Thank you\", \"That's helpful\"],\n",
        "            \"responses\": [\"You're welcome!\", \"Happy to help!\", \"My pleasure!\"]\n",
        "        },\n",
        "        {\n",
        "            \"tag\": \"noanswer\",\n",
        "            \"patterns\": [],\n",
        "            \"responses\": [\"Sorry, I don't understand that.\", \"Can you please rephrase?\", \"I'm not sure how to respond to that.\"]\n",
        "        },\n",
        "        {\n",
        "            \"tag\": \"options\",\n",
        "            \"patterns\": [\"What can you do?\", \"How can you help?\", \"What services do you offer?\"],\n",
        "            \"responses\": [\"I can assist you with a variety of tasks such as answering questions, providing information, and more!\"]\n",
        "        },\n",
        "        {\n",
        "            \"tag\": \"age\",\n",
        "            \"patterns\": [\"How old are you?\", \"What is your age?\"],\n",
        "            \"responses\": [\"I'm a computer program, so I don't have an age.\", \"I was created in 2024.\"]\n",
        "        },\n",
        "        {\n",
        "            \"tag\": \"name\",\n",
        "            \"patterns\": [\"What is your name?\", \"Who are you?\", \"Can you tell me your name?\"],\n",
        "            \"responses\": [\"I am a chatbot created by a little programmer.\", \"You can call me Coco.\"]\n",
        "        },\n",
        "        {\n",
        "            \"tag\": \"weather\",\n",
        "            \"patterns\": [\"What's the weather like?\", \"Is it going to rain today?\", \"How's the weather?\"],\n",
        "            \"responses\": [\"I can't check the weather right now, but you can use a weather service or app to find out.\"]\n",
        "        }\n",
        "    ]\n",
        "}\n",
        "\n",
        "with open('training_data.json', 'w') as outfile:\n",
        "    json.dump(data, outfile, indent=4)"
      ]
    },
    {
      "cell_type": "code",
      "source": [
        "import random\n",
        "import json\n",
        "import pickle\n",
        "import numpy as np\n",
        "import nltk\n",
        "from nltk.stem import WordNetLemmatizer\n",
        "from keras.models import load_model\n",
        "from nltk.tokenize import word_tokenize\n",
        "import tensorflow as tf"
      ],
      "metadata": {
        "id": "XhqYutILZPxQ"
      },
      "execution_count": 35,
      "outputs": []
    },
    {
      "cell_type": "code",
      "source": [
        "lemmatizer=WordNetLemmatizer()"
      ],
      "metadata": {
        "id": "fQjw0MNtZ8LG"
      },
      "execution_count": 8,
      "outputs": []
    },
    {
      "cell_type": "code",
      "source": [
        "with open('/content/training_data.json') as file:\n",
        "    intents = json.load(file)"
      ],
      "metadata": {
        "id": "x682fhAgaEiZ"
      },
      "execution_count": 9,
      "outputs": []
    },
    {
      "cell_type": "code",
      "source": [
        "words=[]\n",
        "classes=[]\n",
        "documents=[]\n",
        "ignore_letters=['?','!','.',',']"
      ],
      "metadata": {
        "id": "wFQyhlOTaUFA"
      },
      "execution_count": 10,
      "outputs": []
    },
    {
      "cell_type": "code",
      "source": [
        "for intent in intents['intents']:\n",
        "    for pattern in intent['patterns']:\n",
        "        wordList = nltk.word_tokenize(pattern)\n",
        "        words.extend(wordList)\n",
        "        documents.append((wordList, intent['tag']))\n",
        "        if intent['tag'] not in classes:\n",
        "            classes.append(intent['tag'])"
      ],
      "metadata": {
        "id": "Pb1rDLmEabhf"
      },
      "execution_count": 14,
      "outputs": []
    },
    {
      "cell_type": "code",
      "source": [
        "nltk.download('punkt')\n",
        "nltk.download('wordnet')\n",
        "nltk.download('omw-1.4')"
      ],
      "metadata": {
        "colab": {
          "base_uri": "https://localhost:8080/"
        },
        "id": "_x_ZDp8rbs1Z",
        "outputId": "9c48be6a-1a34-410d-d1e4-1b23eccdef1b"
      },
      "execution_count": 16,
      "outputs": [
        {
          "output_type": "stream",
          "name": "stderr",
          "text": [
            "[nltk_data] Downloading package punkt to /root/nltk_data...\n",
            "[nltk_data]   Package punkt is already up-to-date!\n",
            "[nltk_data] Downloading package wordnet to /root/nltk_data...\n",
            "[nltk_data] Downloading package omw-1.4 to /root/nltk_data...\n"
          ]
        },
        {
          "output_type": "execute_result",
          "data": {
            "text/plain": [
              "True"
            ]
          },
          "metadata": {},
          "execution_count": 16
        }
      ]
    },
    {
      "cell_type": "code",
      "source": [
        "words = [lemmatizer.lemmatize(word) for word in words if word not in ignore_letters]\n",
        "words = sorted(set(words))"
      ],
      "metadata": {
        "id": "8fBpcomycR5g"
      },
      "execution_count": 18,
      "outputs": []
    },
    {
      "cell_type": "code",
      "source": [
        "classes=sorted(set(classes))"
      ],
      "metadata": {
        "id": "p9Xb25UxcssM"
      },
      "execution_count": 19,
      "outputs": []
    },
    {
      "cell_type": "code",
      "source": [
        "pickle.dump(words, open('words.pkl', 'wb'))\n",
        "pickle.dump(classes, open('classes.pkl', 'wb'))"
      ],
      "metadata": {
        "id": "1PsJogShc1Dj"
      },
      "execution_count": 20,
      "outputs": []
    },
    {
      "cell_type": "code",
      "source": [
        "training=[]\n",
        "outputEmpty=[0]*len(classes)"
      ],
      "metadata": {
        "id": "EDad8mQPc4Ch"
      },
      "execution_count": 21,
      "outputs": []
    },
    {
      "cell_type": "code",
      "source": [
        "print(classes)"
      ],
      "metadata": {
        "colab": {
          "base_uri": "https://localhost:8080/"
        },
        "id": "eq8apZGac_T4",
        "outputId": "2f2f6f02-fb4f-477e-bab0-906c9e48bbca"
      },
      "execution_count": 22,
      "outputs": [
        {
          "output_type": "stream",
          "name": "stdout",
          "text": [
            "['age', 'goodbye', 'greeting', 'name', 'options', 'thanks', 'weather']\n"
          ]
        }
      ]
    },
    {
      "cell_type": "code",
      "source": [
        "print(documents)"
      ],
      "metadata": {
        "colab": {
          "base_uri": "https://localhost:8080/"
        },
        "id": "L4lmINVgdS61",
        "outputId": "3850204e-79d4-445c-e9f6-0a2bc1b5fccd"
      },
      "execution_count": 23,
      "outputs": [
        {
          "output_type": "stream",
          "name": "stdout",
          "text": [
            "[(['Hi'], 'greeting'), (['Hello'], 'greeting'), (['How', 'are', 'you', '?'], 'greeting'), (['Is', 'anyone', 'there', '?'], 'greeting'), (['Good', 'day'], 'greeting'), (['Bye'], 'goodbye'), (['See', 'you', 'later'], 'goodbye'), (['Goodbye'], 'goodbye'), (['Thanks'], 'thanks'), (['Thank', 'you'], 'thanks'), (['That', \"'s\", 'helpful'], 'thanks'), (['What', 'can', 'you', 'do', '?'], 'options'), (['How', 'can', 'you', 'help', '?'], 'options'), (['What', 'services', 'do', 'you', 'offer', '?'], 'options'), (['How', 'old', 'are', 'you', '?'], 'age'), (['What', 'is', 'your', 'age', '?'], 'age'), (['What', 'is', 'your', 'name', '?'], 'name'), (['Who', 'are', 'you', '?'], 'name'), (['Can', 'you', 'tell', 'me', 'your', 'name', '?'], 'name'), (['What', \"'s\", 'the', 'weather', 'like', '?'], 'weather'), (['Is', 'it', 'going', 'to', 'rain', 'today', '?'], 'weather'), (['How', \"'s\", 'the', 'weather', '?'], 'weather')]\n"
          ]
        }
      ]
    },
    {
      "cell_type": "code",
      "source": [
        "print(words)"
      ],
      "metadata": {
        "colab": {
          "base_uri": "https://localhost:8080/"
        },
        "id": "LHYrMPFJdbpQ",
        "outputId": "0f404e58-b60f-413f-948e-1b3e22e8adc4"
      },
      "execution_count": 24,
      "outputs": [
        {
          "output_type": "stream",
          "name": "stdout",
          "text": [
            "[\"'s\", 'Bye', 'Can', 'Good', 'Goodbye', 'Hello', 'Hi', 'How', 'Is', 'See', 'Thank', 'Thanks', 'That', 'What', 'Who', 'age', 'anyone', 'are', 'can', 'day', 'do', 'going', 'help', 'helpful', 'is', 'it', 'later', 'like', 'me', 'name', 'offer', 'old', 'rain', 'service', 'tell', 'the', 'there', 'to', 'today', 'weather', 'you', 'your']\n"
          ]
        }
      ]
    },
    {
      "cell_type": "code",
      "source": [
        "for document in documents:\n",
        "  bag=[]\n",
        "  word_pattern=document[0]\n",
        "  wordPatterns = [lemmatizer.lemmatize(word.lower()) for word in word_pattern]\n",
        "  for word in words:\n",
        "    bag.append(1) if word in word_pattern else bag.append(0)\n",
        "  output_row=list(outputEmpty)\n",
        "  output_row[classes.index(document[1])]=1\n",
        "  training.append([bag,output_row])"
      ],
      "metadata": {
        "id": "7vlrZiKrdekT"
      },
      "execution_count": 26,
      "outputs": []
    },
    {
      "cell_type": "code",
      "source": [
        "random.shuffle(training)\n",
        "training = np.array(training, dtype=object)"
      ],
      "metadata": {
        "id": "lbrOxKRKeDfO"
      },
      "execution_count": 30,
      "outputs": []
    },
    {
      "cell_type": "code",
      "source": [
        "print(training)"
      ],
      "metadata": {
        "colab": {
          "base_uri": "https://localhost:8080/"
        },
        "id": "fCSi3saMeYKX",
        "outputId": "5021d876-3d0a-4e1d-f33c-a5a8a8b7c82f"
      },
      "execution_count": 32,
      "outputs": [
        {
          "output_type": "stream",
          "name": "stdout",
          "text": [
            "[[list([0, 0, 0, 0, 1, 0, 0, 0, 0, 0, 0, 0, 0, 0, 0, 0, 0, 0, 0, 0, 0, 0, 0, 0, 0, 0, 0, 0, 0, 0, 0, 0, 0, 0, 0, 0, 0, 0, 0, 0, 0, 0])\n",
            "  list([0, 1, 0, 0, 0, 0, 0])]\n",
            " [list([0, 0, 0, 0, 0, 0, 0, 0, 0, 1, 0, 0, 0, 0, 0, 0, 0, 0, 0, 0, 0, 0, 0, 0, 0, 0, 1, 0, 0, 0, 0, 0, 0, 0, 0, 0, 0, 0, 0, 0, 1, 0])\n",
            "  list([0, 1, 0, 0, 0, 0, 0])]\n",
            " [list([0, 0, 0, 0, 0, 0, 0, 1, 0, 0, 0, 0, 0, 0, 0, 0, 0, 0, 1, 0, 0, 0, 1, 0, 0, 0, 0, 0, 0, 0, 0, 0, 0, 0, 0, 0, 0, 0, 0, 0, 1, 0])\n",
            "  list([0, 0, 0, 0, 1, 0, 0])]\n",
            " [list([0, 0, 0, 0, 0, 1, 0, 0, 0, 0, 0, 0, 0, 0, 0, 0, 0, 0, 0, 0, 0, 0, 0, 0, 0, 0, 0, 0, 0, 0, 0, 0, 0, 0, 0, 0, 0, 0, 0, 0, 0, 0])\n",
            "  list([0, 0, 1, 0, 0, 0, 0])]\n",
            " [list([0, 1, 0, 0, 0, 0, 0, 0, 0, 0, 0, 0, 0, 0, 0, 0, 0, 0, 0, 0, 0, 0, 0, 0, 0, 0, 0, 0, 0, 0, 0, 0, 0, 0, 0, 0, 0, 0, 0, 0, 0, 0])\n",
            "  list([0, 1, 0, 0, 0, 0, 0])]\n",
            " [list([0, 0, 0, 0, 0, 0, 0, 0, 0, 0, 0, 0, 0, 1, 0, 0, 0, 0, 0, 0, 0, 0, 0, 0, 1, 0, 0, 0, 0, 1, 0, 0, 0, 0, 0, 0, 0, 0, 0, 0, 0, 1])\n",
            "  list([0, 0, 0, 1, 0, 0, 0])]\n",
            " [list([0, 0, 0, 0, 0, 0, 0, 0, 0, 0, 1, 0, 0, 0, 0, 0, 0, 0, 0, 0, 0, 0, 0, 0, 0, 0, 0, 0, 0, 0, 0, 0, 0, 0, 0, 0, 0, 0, 0, 0, 1, 0])\n",
            "  list([0, 0, 0, 0, 0, 1, 0])]\n",
            " [list([0, 0, 0, 0, 0, 0, 0, 1, 0, 0, 0, 0, 0, 0, 0, 0, 0, 1, 0, 0, 0, 0, 0, 0, 0, 0, 0, 0, 0, 0, 0, 0, 0, 0, 0, 0, 0, 0, 0, 0, 1, 0])\n",
            "  list([0, 0, 1, 0, 0, 0, 0])]\n",
            " [list([0, 0, 0, 0, 0, 0, 0, 0, 0, 0, 0, 0, 0, 0, 1, 0, 0, 1, 0, 0, 0, 0, 0, 0, 0, 0, 0, 0, 0, 0, 0, 0, 0, 0, 0, 0, 0, 0, 0, 0, 1, 0])\n",
            "  list([0, 0, 0, 1, 0, 0, 0])]\n",
            " [list([1, 0, 0, 0, 0, 0, 0, 1, 0, 0, 0, 0, 0, 0, 0, 0, 0, 0, 0, 0, 0, 0, 0, 0, 0, 0, 0, 0, 0, 0, 0, 0, 0, 0, 0, 1, 0, 0, 0, 1, 0, 0])\n",
            "  list([0, 0, 0, 0, 0, 0, 1])]\n",
            " [list([0, 0, 1, 0, 0, 0, 0, 0, 0, 0, 0, 0, 0, 0, 0, 0, 0, 0, 0, 0, 0, 0, 0, 0, 0, 0, 0, 0, 1, 1, 0, 0, 0, 0, 1, 0, 0, 0, 0, 0, 1, 1])\n",
            "  list([0, 0, 0, 1, 0, 0, 0])]\n",
            " [list([0, 0, 0, 0, 0, 0, 0, 0, 0, 0, 0, 1, 0, 0, 0, 0, 0, 0, 0, 0, 0, 0, 0, 0, 0, 0, 0, 0, 0, 0, 0, 0, 0, 0, 0, 0, 0, 0, 0, 0, 0, 0])\n",
            "  list([0, 0, 0, 0, 0, 1, 0])]\n",
            " [list([0, 0, 0, 0, 0, 0, 0, 0, 0, 0, 0, 0, 0, 1, 0, 0, 0, 0, 1, 0, 1, 0, 0, 0, 0, 0, 0, 0, 0, 0, 0, 0, 0, 0, 0, 0, 0, 0, 0, 0, 1, 0])\n",
            "  list([0, 0, 0, 0, 1, 0, 0])]\n",
            " [list([0, 0, 0, 0, 0, 0, 1, 0, 0, 0, 0, 0, 0, 0, 0, 0, 0, 0, 0, 0, 0, 0, 0, 0, 0, 0, 0, 0, 0, 0, 0, 0, 0, 0, 0, 0, 0, 0, 0, 0, 0, 0])\n",
            "  list([0, 0, 1, 0, 0, 0, 0])]\n",
            " [list([0, 0, 0, 1, 0, 0, 0, 0, 0, 0, 0, 0, 0, 0, 0, 0, 0, 0, 0, 1, 0, 0, 0, 0, 0, 0, 0, 0, 0, 0, 0, 0, 0, 0, 0, 0, 0, 0, 0, 0, 0, 0])\n",
            "  list([0, 0, 1, 0, 0, 0, 0])]\n",
            " [list([0, 0, 0, 0, 0, 0, 0, 0, 1, 0, 0, 0, 0, 0, 0, 0, 0, 0, 0, 0, 0, 1, 0, 0, 0, 1, 0, 0, 0, 0, 0, 0, 1, 0, 0, 0, 0, 1, 1, 0, 0, 0])\n",
            "  list([0, 0, 0, 0, 0, 0, 1])]\n",
            " [list([0, 0, 0, 0, 0, 0, 0, 1, 0, 0, 0, 0, 0, 0, 0, 0, 0, 1, 0, 0, 0, 0, 0, 0, 0, 0, 0, 0, 0, 0, 0, 1, 0, 0, 0, 0, 0, 0, 0, 0, 1, 0])\n",
            "  list([1, 0, 0, 0, 0, 0, 0])]\n",
            " [list([0, 0, 0, 0, 0, 0, 0, 0, 1, 0, 0, 0, 0, 0, 0, 0, 1, 0, 0, 0, 0, 0, 0, 0, 0, 0, 0, 0, 0, 0, 0, 0, 0, 0, 0, 0, 1, 0, 0, 0, 0, 0])\n",
            "  list([0, 0, 1, 0, 0, 0, 0])]\n",
            " [list([0, 0, 0, 0, 0, 0, 0, 0, 0, 0, 0, 0, 0, 1, 0, 1, 0, 0, 0, 0, 0, 0, 0, 0, 1, 0, 0, 0, 0, 0, 0, 0, 0, 0, 0, 0, 0, 0, 0, 0, 0, 1])\n",
            "  list([1, 0, 0, 0, 0, 0, 0])]\n",
            " [list([1, 0, 0, 0, 0, 0, 0, 0, 0, 0, 0, 0, 1, 0, 0, 0, 0, 0, 0, 0, 0, 0, 0, 1, 0, 0, 0, 0, 0, 0, 0, 0, 0, 0, 0, 0, 0, 0, 0, 0, 0, 0])\n",
            "  list([0, 0, 0, 0, 0, 1, 0])]\n",
            " [list([1, 0, 0, 0, 0, 0, 0, 0, 0, 0, 0, 0, 0, 1, 0, 0, 0, 0, 0, 0, 0, 0, 0, 0, 0, 0, 0, 1, 0, 0, 0, 0, 0, 0, 0, 1, 0, 0, 0, 1, 0, 0])\n",
            "  list([0, 0, 0, 0, 0, 0, 1])]\n",
            " [list([0, 0, 0, 0, 0, 0, 0, 0, 0, 0, 0, 0, 0, 1, 0, 0, 0, 0, 0, 0, 1, 0, 0, 0, 0, 0, 0, 0, 0, 0, 1, 0, 0, 0, 0, 0, 0, 0, 0, 0, 1, 0])\n",
            "  list([0, 0, 0, 0, 1, 0, 0])]]\n"
          ]
        }
      ]
    },
    {
      "cell_type": "code",
      "source": [
        "trainX = np.array(list(training[:, 0]), dtype=np.float32)\n",
        "trainY = np.array(list(training[:, 1]), dtype=np.float32)"
      ],
      "metadata": {
        "id": "-9SahNbDebx3"
      },
      "execution_count": 53,
      "outputs": []
    },
    {
      "cell_type": "code",
      "source": [
        "print('trainX shape:', trainX.shape)\n",
        "print('trainY shape:', trainY.shape)"
      ],
      "metadata": {
        "colab": {
          "base_uri": "https://localhost:8080/"
        },
        "id": "n4ubXab5ef-a",
        "outputId": "ca41074f-05c0-4435-e2e6-254f2adda326"
      },
      "execution_count": 54,
      "outputs": [
        {
          "output_type": "stream",
          "name": "stdout",
          "text": [
            "trainX shape: (22, 42)\n",
            "trainY shape: (22, 7)\n"
          ]
        }
      ]
    },
    {
      "cell_type": "code",
      "source": [
        "model = tf.keras.Sequential()\n",
        "model.add(tf.keras.layers.Dense(128, input_shape=(len(trainX[1]),), activation = 'relu'))\n",
        "model.add(tf.keras.layers.Dropout(0.5))\n",
        "model.add(tf.keras.layers.Dense(64, activation = 'relu'))\n",
        "model.add(tf.keras.layers.Dropout(0.5))\n",
        "model.add(tf.keras.layers.Dense(len(trainY[1]), activation='softmax'))"
      ],
      "metadata": {
        "id": "uBguqpcUfNBp"
      },
      "execution_count": 56,
      "outputs": []
    },
    {
      "cell_type": "code",
      "source": [
        "model.compile(loss='categorical_crossentropy', optimizer='adam', metrics=['accuracy'])"
      ],
      "metadata": {
        "id": "iav8EYw5fbwR"
      },
      "execution_count": 57,
      "outputs": []
    },
    {
      "cell_type": "code",
      "source": [
        "hist = model.fit(trainX, trainY, epochs=200, batch_size=5, verbose=1)"
      ],
      "metadata": {
        "colab": {
          "base_uri": "https://localhost:8080/"
        },
        "id": "0v2faKOKffKs",
        "outputId": "1d341976-8ad9-45b1-968d-51855999628e"
      },
      "execution_count": 58,
      "outputs": [
        {
          "output_type": "stream",
          "name": "stdout",
          "text": [
            "Epoch 1/200\n",
            "5/5 [==============================] - 1s 6ms/step - loss: 2.0689 - accuracy: 0.2273\n",
            "Epoch 2/200\n",
            "5/5 [==============================] - 0s 5ms/step - loss: 2.0503 - accuracy: 0.1818\n",
            "Epoch 3/200\n",
            "5/5 [==============================] - 0s 5ms/step - loss: 1.8897 - accuracy: 0.1818\n",
            "Epoch 4/200\n",
            "5/5 [==============================] - 0s 5ms/step - loss: 1.8733 - accuracy: 0.1818\n",
            "Epoch 5/200\n",
            "5/5 [==============================] - 0s 4ms/step - loss: 1.9376 - accuracy: 0.1364\n",
            "Epoch 6/200\n",
            "5/5 [==============================] - 0s 5ms/step - loss: 1.9419 - accuracy: 0.2727\n",
            "Epoch 7/200\n",
            "5/5 [==============================] - 0s 6ms/step - loss: 1.7691 - accuracy: 0.3182\n",
            "Epoch 8/200\n",
            "5/5 [==============================] - 0s 5ms/step - loss: 1.7622 - accuracy: 0.3636\n",
            "Epoch 9/200\n",
            "5/5 [==============================] - 0s 4ms/step - loss: 1.7657 - accuracy: 0.2727\n",
            "Epoch 10/200\n",
            "5/5 [==============================] - 0s 4ms/step - loss: 1.7129 - accuracy: 0.3636\n",
            "Epoch 11/200\n",
            "5/5 [==============================] - 0s 4ms/step - loss: 1.8831 - accuracy: 0.2273\n",
            "Epoch 12/200\n",
            "5/5 [==============================] - 0s 4ms/step - loss: 1.6664 - accuracy: 0.4545\n",
            "Epoch 13/200\n",
            "5/5 [==============================] - 0s 4ms/step - loss: 1.6212 - accuracy: 0.4091\n",
            "Epoch 14/200\n",
            "5/5 [==============================] - 0s 4ms/step - loss: 1.6043 - accuracy: 0.5455\n",
            "Epoch 15/200\n",
            "5/5 [==============================] - 0s 4ms/step - loss: 1.6444 - accuracy: 0.5455\n",
            "Epoch 16/200\n",
            "5/5 [==============================] - 0s 4ms/step - loss: 1.6387 - accuracy: 0.4091\n",
            "Epoch 17/200\n",
            "5/5 [==============================] - 0s 4ms/step - loss: 1.5334 - accuracy: 0.5455\n",
            "Epoch 18/200\n",
            "5/5 [==============================] - 0s 4ms/step - loss: 1.4338 - accuracy: 0.7273\n",
            "Epoch 19/200\n",
            "5/5 [==============================] - 0s 4ms/step - loss: 1.4727 - accuracy: 0.5909\n",
            "Epoch 20/200\n",
            "5/5 [==============================] - 0s 4ms/step - loss: 1.4843 - accuracy: 0.6364\n",
            "Epoch 21/200\n",
            "5/5 [==============================] - 0s 4ms/step - loss: 1.4100 - accuracy: 0.5909\n",
            "Epoch 22/200\n",
            "5/5 [==============================] - 0s 4ms/step - loss: 1.3375 - accuracy: 0.6818\n",
            "Epoch 23/200\n",
            "5/5 [==============================] - 0s 4ms/step - loss: 1.4382 - accuracy: 0.6364\n",
            "Epoch 24/200\n",
            "5/5 [==============================] - 0s 4ms/step - loss: 1.3470 - accuracy: 0.6818\n",
            "Epoch 25/200\n",
            "5/5 [==============================] - 0s 4ms/step - loss: 1.3408 - accuracy: 0.5909\n",
            "Epoch 26/200\n",
            "5/5 [==============================] - 0s 4ms/step - loss: 1.2443 - accuracy: 0.6818\n",
            "Epoch 27/200\n",
            "5/5 [==============================] - 0s 4ms/step - loss: 1.1794 - accuracy: 0.7273\n",
            "Epoch 28/200\n",
            "5/5 [==============================] - 0s 4ms/step - loss: 1.1314 - accuracy: 0.8182\n",
            "Epoch 29/200\n",
            "5/5 [==============================] - 0s 4ms/step - loss: 1.1797 - accuracy: 0.6818\n",
            "Epoch 30/200\n",
            "5/5 [==============================] - 0s 4ms/step - loss: 1.1648 - accuracy: 0.6364\n",
            "Epoch 31/200\n",
            "5/5 [==============================] - 0s 4ms/step - loss: 1.0364 - accuracy: 0.8636\n",
            "Epoch 32/200\n",
            "5/5 [==============================] - 0s 4ms/step - loss: 1.0637 - accuracy: 0.7273\n",
            "Epoch 33/200\n",
            "5/5 [==============================] - 0s 5ms/step - loss: 1.1966 - accuracy: 0.6818\n",
            "Epoch 34/200\n",
            "5/5 [==============================] - 0s 4ms/step - loss: 0.9932 - accuracy: 0.8182\n",
            "Epoch 35/200\n",
            "5/5 [==============================] - 0s 4ms/step - loss: 0.9396 - accuracy: 0.7273\n",
            "Epoch 36/200\n",
            "5/5 [==============================] - 0s 4ms/step - loss: 0.9171 - accuracy: 0.7727\n",
            "Epoch 37/200\n",
            "5/5 [==============================] - 0s 4ms/step - loss: 0.9353 - accuracy: 0.7727\n",
            "Epoch 38/200\n",
            "5/5 [==============================] - 0s 4ms/step - loss: 1.0136 - accuracy: 0.7273\n",
            "Epoch 39/200\n",
            "5/5 [==============================] - 0s 4ms/step - loss: 0.9545 - accuracy: 0.7273\n",
            "Epoch 40/200\n",
            "5/5 [==============================] - 0s 4ms/step - loss: 0.9869 - accuracy: 0.6364\n",
            "Epoch 41/200\n",
            "5/5 [==============================] - 0s 4ms/step - loss: 0.9335 - accuracy: 0.8182\n",
            "Epoch 42/200\n",
            "5/5 [==============================] - 0s 4ms/step - loss: 0.8318 - accuracy: 0.7727\n",
            "Epoch 43/200\n",
            "5/5 [==============================] - 0s 4ms/step - loss: 0.8702 - accuracy: 0.8182\n",
            "Epoch 44/200\n",
            "5/5 [==============================] - 0s 4ms/step - loss: 0.7272 - accuracy: 0.8636\n",
            "Epoch 45/200\n",
            "5/5 [==============================] - 0s 4ms/step - loss: 0.8446 - accuracy: 0.8636\n",
            "Epoch 46/200\n",
            "5/5 [==============================] - 0s 4ms/step - loss: 0.8315 - accuracy: 0.8636\n",
            "Epoch 47/200\n",
            "5/5 [==============================] - 0s 4ms/step - loss: 0.7020 - accuracy: 0.8636\n",
            "Epoch 48/200\n",
            "5/5 [==============================] - 0s 5ms/step - loss: 0.7073 - accuracy: 0.9091\n",
            "Epoch 49/200\n",
            "5/5 [==============================] - 0s 5ms/step - loss: 0.6872 - accuracy: 0.8636\n",
            "Epoch 50/200\n",
            "5/5 [==============================] - 0s 5ms/step - loss: 0.6501 - accuracy: 0.8636\n",
            "Epoch 51/200\n",
            "5/5 [==============================] - 0s 4ms/step - loss: 0.7162 - accuracy: 0.7273\n",
            "Epoch 52/200\n",
            "5/5 [==============================] - 0s 4ms/step - loss: 0.6586 - accuracy: 0.9091\n",
            "Epoch 53/200\n",
            "5/5 [==============================] - 0s 4ms/step - loss: 0.5317 - accuracy: 0.8636\n",
            "Epoch 54/200\n",
            "5/5 [==============================] - 0s 4ms/step - loss: 0.6266 - accuracy: 0.9091\n",
            "Epoch 55/200\n",
            "5/5 [==============================] - 0s 4ms/step - loss: 0.5736 - accuracy: 1.0000\n",
            "Epoch 56/200\n",
            "5/5 [==============================] - 0s 4ms/step - loss: 0.6377 - accuracy: 0.9091\n",
            "Epoch 57/200\n",
            "5/5 [==============================] - 0s 4ms/step - loss: 0.5063 - accuracy: 1.0000\n",
            "Epoch 58/200\n",
            "5/5 [==============================] - 0s 4ms/step - loss: 0.5577 - accuracy: 0.9091\n",
            "Epoch 59/200\n",
            "5/5 [==============================] - 0s 4ms/step - loss: 0.6622 - accuracy: 0.8636\n",
            "Epoch 60/200\n",
            "5/5 [==============================] - 0s 4ms/step - loss: 0.5255 - accuracy: 0.9091\n",
            "Epoch 61/200\n",
            "5/5 [==============================] - 0s 4ms/step - loss: 0.3644 - accuracy: 0.9545\n",
            "Epoch 62/200\n",
            "5/5 [==============================] - 0s 4ms/step - loss: 0.4654 - accuracy: 0.9091\n",
            "Epoch 63/200\n",
            "5/5 [==============================] - 0s 4ms/step - loss: 0.3684 - accuracy: 0.9545\n",
            "Epoch 64/200\n",
            "5/5 [==============================] - 0s 4ms/step - loss: 0.3985 - accuracy: 1.0000\n",
            "Epoch 65/200\n",
            "5/5 [==============================] - 0s 4ms/step - loss: 0.3577 - accuracy: 0.9545\n",
            "Epoch 66/200\n",
            "5/5 [==============================] - 0s 4ms/step - loss: 0.3366 - accuracy: 1.0000\n",
            "Epoch 67/200\n",
            "5/5 [==============================] - 0s 4ms/step - loss: 0.3987 - accuracy: 1.0000\n",
            "Epoch 68/200\n",
            "5/5 [==============================] - 0s 4ms/step - loss: 0.4030 - accuracy: 0.9091\n",
            "Epoch 69/200\n",
            "5/5 [==============================] - 0s 4ms/step - loss: 0.3703 - accuracy: 0.9545\n",
            "Epoch 70/200\n",
            "5/5 [==============================] - 0s 4ms/step - loss: 0.3548 - accuracy: 0.9545\n",
            "Epoch 71/200\n",
            "5/5 [==============================] - 0s 4ms/step - loss: 0.5250 - accuracy: 0.9091\n",
            "Epoch 72/200\n",
            "5/5 [==============================] - 0s 5ms/step - loss: 0.3168 - accuracy: 0.8636\n",
            "Epoch 73/200\n",
            "5/5 [==============================] - 0s 4ms/step - loss: 0.2864 - accuracy: 1.0000\n",
            "Epoch 74/200\n",
            "5/5 [==============================] - 0s 4ms/step - loss: 0.4139 - accuracy: 0.9091\n",
            "Epoch 75/200\n",
            "5/5 [==============================] - 0s 4ms/step - loss: 0.4345 - accuracy: 0.8636\n",
            "Epoch 76/200\n",
            "5/5 [==============================] - 0s 4ms/step - loss: 0.2563 - accuracy: 0.9545\n",
            "Epoch 77/200\n",
            "5/5 [==============================] - 0s 4ms/step - loss: 0.4695 - accuracy: 0.9091\n",
            "Epoch 78/200\n",
            "5/5 [==============================] - 0s 6ms/step - loss: 0.3414 - accuracy: 0.9091\n",
            "Epoch 79/200\n",
            "5/5 [==============================] - 0s 4ms/step - loss: 0.2546 - accuracy: 0.9545\n",
            "Epoch 80/200\n",
            "5/5 [==============================] - 0s 4ms/step - loss: 0.2232 - accuracy: 1.0000\n",
            "Epoch 81/200\n",
            "5/5 [==============================] - 0s 4ms/step - loss: 0.2956 - accuracy: 1.0000\n",
            "Epoch 82/200\n",
            "5/5 [==============================] - 0s 4ms/step - loss: 0.2630 - accuracy: 0.9091\n",
            "Epoch 83/200\n",
            "5/5 [==============================] - 0s 4ms/step - loss: 0.2505 - accuracy: 1.0000\n",
            "Epoch 84/200\n",
            "5/5 [==============================] - 0s 4ms/step - loss: 0.2442 - accuracy: 0.9545\n",
            "Epoch 85/200\n",
            "5/5 [==============================] - 0s 5ms/step - loss: 0.3190 - accuracy: 0.9545\n",
            "Epoch 86/200\n",
            "5/5 [==============================] - 0s 4ms/step - loss: 0.2472 - accuracy: 0.9545\n",
            "Epoch 87/200\n",
            "5/5 [==============================] - 0s 6ms/step - loss: 0.3090 - accuracy: 0.9091\n",
            "Epoch 88/200\n",
            "5/5 [==============================] - 0s 4ms/step - loss: 0.1552 - accuracy: 1.0000\n",
            "Epoch 89/200\n",
            "5/5 [==============================] - 0s 5ms/step - loss: 0.2165 - accuracy: 1.0000\n",
            "Epoch 90/200\n",
            "5/5 [==============================] - 0s 6ms/step - loss: 0.2332 - accuracy: 0.9545\n",
            "Epoch 91/200\n",
            "5/5 [==============================] - 0s 6ms/step - loss: 0.1793 - accuracy: 0.9545\n",
            "Epoch 92/200\n",
            "5/5 [==============================] - 0s 5ms/step - loss: 0.2284 - accuracy: 0.9545\n",
            "Epoch 93/200\n",
            "5/5 [==============================] - 0s 5ms/step - loss: 0.1470 - accuracy: 1.0000\n",
            "Epoch 94/200\n",
            "5/5 [==============================] - 0s 4ms/step - loss: 0.2634 - accuracy: 0.9091\n",
            "Epoch 95/200\n",
            "5/5 [==============================] - 0s 4ms/step - loss: 0.3092 - accuracy: 0.9091\n",
            "Epoch 96/200\n",
            "5/5 [==============================] - 0s 4ms/step - loss: 0.1419 - accuracy: 0.9545\n",
            "Epoch 97/200\n",
            "5/5 [==============================] - 0s 4ms/step - loss: 0.1009 - accuracy: 1.0000\n",
            "Epoch 98/200\n",
            "5/5 [==============================] - 0s 5ms/step - loss: 0.1309 - accuracy: 1.0000\n",
            "Epoch 99/200\n",
            "5/5 [==============================] - 0s 5ms/step - loss: 0.2237 - accuracy: 0.9545\n",
            "Epoch 100/200\n",
            "5/5 [==============================] - 0s 4ms/step - loss: 0.0981 - accuracy: 1.0000\n",
            "Epoch 101/200\n",
            "5/5 [==============================] - 0s 4ms/step - loss: 0.1184 - accuracy: 1.0000\n",
            "Epoch 102/200\n",
            "5/5 [==============================] - 0s 4ms/step - loss: 0.1544 - accuracy: 1.0000\n",
            "Epoch 103/200\n",
            "5/5 [==============================] - 0s 5ms/step - loss: 0.1774 - accuracy: 0.9545\n",
            "Epoch 104/200\n",
            "5/5 [==============================] - 0s 4ms/step - loss: 0.1064 - accuracy: 1.0000\n",
            "Epoch 105/200\n",
            "5/5 [==============================] - 0s 6ms/step - loss: 0.1889 - accuracy: 0.9545\n",
            "Epoch 106/200\n",
            "5/5 [==============================] - 0s 4ms/step - loss: 0.1047 - accuracy: 1.0000\n",
            "Epoch 107/200\n",
            "5/5 [==============================] - 0s 4ms/step - loss: 0.1007 - accuracy: 1.0000\n",
            "Epoch 108/200\n",
            "5/5 [==============================] - 0s 5ms/step - loss: 0.1286 - accuracy: 1.0000\n",
            "Epoch 109/200\n",
            "5/5 [==============================] - 0s 5ms/step - loss: 0.1900 - accuracy: 0.9545\n",
            "Epoch 110/200\n",
            "5/5 [==============================] - 0s 6ms/step - loss: 0.1344 - accuracy: 1.0000\n",
            "Epoch 111/200\n",
            "5/5 [==============================] - 0s 6ms/step - loss: 0.0653 - accuracy: 1.0000\n",
            "Epoch 112/200\n",
            "5/5 [==============================] - 0s 5ms/step - loss: 0.1152 - accuracy: 1.0000\n",
            "Epoch 113/200\n",
            "5/5 [==============================] - 0s 4ms/step - loss: 0.0908 - accuracy: 1.0000\n",
            "Epoch 114/200\n",
            "5/5 [==============================] - 0s 4ms/step - loss: 0.1321 - accuracy: 0.9545\n",
            "Epoch 115/200\n",
            "5/5 [==============================] - 0s 4ms/step - loss: 0.1591 - accuracy: 1.0000\n",
            "Epoch 116/200\n",
            "5/5 [==============================] - 0s 4ms/step - loss: 0.1318 - accuracy: 0.9545\n",
            "Epoch 117/200\n",
            "5/5 [==============================] - 0s 4ms/step - loss: 0.1174 - accuracy: 0.9545\n",
            "Epoch 118/200\n",
            "5/5 [==============================] - 0s 6ms/step - loss: 0.2424 - accuracy: 0.8636\n",
            "Epoch 119/200\n",
            "5/5 [==============================] - 0s 6ms/step - loss: 0.2026 - accuracy: 0.9545\n",
            "Epoch 120/200\n",
            "5/5 [==============================] - 0s 5ms/step - loss: 0.1314 - accuracy: 1.0000\n",
            "Epoch 121/200\n",
            "5/5 [==============================] - 0s 5ms/step - loss: 0.1144 - accuracy: 0.9545\n",
            "Epoch 122/200\n",
            "5/5 [==============================] - 0s 6ms/step - loss: 0.1467 - accuracy: 0.9545\n",
            "Epoch 123/200\n",
            "5/5 [==============================] - 0s 4ms/step - loss: 0.2102 - accuracy: 0.9091\n",
            "Epoch 124/200\n",
            "5/5 [==============================] - 0s 4ms/step - loss: 0.0992 - accuracy: 1.0000\n",
            "Epoch 125/200\n",
            "5/5 [==============================] - 0s 6ms/step - loss: 0.0505 - accuracy: 1.0000\n",
            "Epoch 126/200\n",
            "5/5 [==============================] - 0s 5ms/step - loss: 0.1295 - accuracy: 0.9545\n",
            "Epoch 127/200\n",
            "5/5 [==============================] - 0s 5ms/step - loss: 0.1124 - accuracy: 0.9545\n",
            "Epoch 128/200\n",
            "5/5 [==============================] - 0s 5ms/step - loss: 0.0517 - accuracy: 1.0000\n",
            "Epoch 129/200\n",
            "5/5 [==============================] - 0s 4ms/step - loss: 0.1852 - accuracy: 0.9091\n",
            "Epoch 130/200\n",
            "5/5 [==============================] - 0s 4ms/step - loss: 0.1294 - accuracy: 1.0000\n",
            "Epoch 131/200\n",
            "5/5 [==============================] - 0s 5ms/step - loss: 0.0418 - accuracy: 1.0000\n",
            "Epoch 132/200\n",
            "5/5 [==============================] - 0s 6ms/step - loss: 0.0454 - accuracy: 1.0000\n",
            "Epoch 133/200\n",
            "5/5 [==============================] - 0s 6ms/step - loss: 0.0899 - accuracy: 1.0000\n",
            "Epoch 134/200\n",
            "5/5 [==============================] - 0s 4ms/step - loss: 0.1586 - accuracy: 1.0000\n",
            "Epoch 135/200\n",
            "5/5 [==============================] - 0s 4ms/step - loss: 0.0517 - accuracy: 1.0000\n",
            "Epoch 136/200\n",
            "5/5 [==============================] - 0s 4ms/step - loss: 0.0816 - accuracy: 1.0000\n",
            "Epoch 137/200\n",
            "5/5 [==============================] - 0s 4ms/step - loss: 0.0952 - accuracy: 1.0000\n",
            "Epoch 138/200\n",
            "5/5 [==============================] - 0s 6ms/step - loss: 0.0885 - accuracy: 1.0000\n",
            "Epoch 139/200\n",
            "5/5 [==============================] - 0s 4ms/step - loss: 0.0916 - accuracy: 1.0000\n",
            "Epoch 140/200\n",
            "5/5 [==============================] - 0s 4ms/step - loss: 0.0821 - accuracy: 1.0000\n",
            "Epoch 141/200\n",
            "5/5 [==============================] - 0s 5ms/step - loss: 0.0821 - accuracy: 1.0000\n",
            "Epoch 142/200\n",
            "5/5 [==============================] - 0s 5ms/step - loss: 0.0633 - accuracy: 1.0000\n",
            "Epoch 143/200\n",
            "5/5 [==============================] - 0s 4ms/step - loss: 0.0349 - accuracy: 1.0000\n",
            "Epoch 144/200\n",
            "5/5 [==============================] - 0s 4ms/step - loss: 0.0707 - accuracy: 1.0000\n",
            "Epoch 145/200\n",
            "5/5 [==============================] - 0s 4ms/step - loss: 0.1215 - accuracy: 0.9545\n",
            "Epoch 146/200\n",
            "5/5 [==============================] - 0s 4ms/step - loss: 0.2066 - accuracy: 0.9091\n",
            "Epoch 147/200\n",
            "5/5 [==============================] - 0s 4ms/step - loss: 0.0288 - accuracy: 1.0000\n",
            "Epoch 148/200\n",
            "5/5 [==============================] - 0s 5ms/step - loss: 0.0178 - accuracy: 1.0000\n",
            "Epoch 149/200\n",
            "5/5 [==============================] - 0s 4ms/step - loss: 0.0642 - accuracy: 1.0000\n",
            "Epoch 150/200\n",
            "5/5 [==============================] - 0s 5ms/step - loss: 0.0887 - accuracy: 1.0000\n",
            "Epoch 151/200\n",
            "5/5 [==============================] - 0s 4ms/step - loss: 0.1040 - accuracy: 0.9545\n",
            "Epoch 152/200\n",
            "5/5 [==============================] - 0s 4ms/step - loss: 0.1269 - accuracy: 0.9545\n",
            "Epoch 153/200\n",
            "5/5 [==============================] - 0s 3ms/step - loss: 0.1088 - accuracy: 0.9545\n",
            "Epoch 154/200\n",
            "5/5 [==============================] - 0s 4ms/step - loss: 0.0776 - accuracy: 1.0000\n",
            "Epoch 155/200\n",
            "5/5 [==============================] - 0s 4ms/step - loss: 0.0996 - accuracy: 1.0000\n",
            "Epoch 156/200\n",
            "5/5 [==============================] - 0s 4ms/step - loss: 0.0785 - accuracy: 1.0000\n",
            "Epoch 157/200\n",
            "5/5 [==============================] - 0s 4ms/step - loss: 0.0137 - accuracy: 1.0000\n",
            "Epoch 158/200\n",
            "5/5 [==============================] - 0s 4ms/step - loss: 0.1028 - accuracy: 0.9545\n",
            "Epoch 159/200\n",
            "5/5 [==============================] - 0s 4ms/step - loss: 0.0216 - accuracy: 1.0000\n",
            "Epoch 160/200\n",
            "5/5 [==============================] - 0s 4ms/step - loss: 0.0630 - accuracy: 1.0000\n",
            "Epoch 161/200\n",
            "5/5 [==============================] - 0s 4ms/step - loss: 0.0273 - accuracy: 1.0000\n",
            "Epoch 162/200\n",
            "5/5 [==============================] - 0s 4ms/step - loss: 0.0381 - accuracy: 1.0000\n",
            "Epoch 163/200\n",
            "5/5 [==============================] - 0s 4ms/step - loss: 0.1013 - accuracy: 0.9545\n",
            "Epoch 164/200\n",
            "5/5 [==============================] - 0s 4ms/step - loss: 0.0593 - accuracy: 1.0000\n",
            "Epoch 165/200\n",
            "5/5 [==============================] - 0s 4ms/step - loss: 0.0349 - accuracy: 1.0000\n",
            "Epoch 166/200\n",
            "5/5 [==============================] - 0s 4ms/step - loss: 0.0485 - accuracy: 1.0000\n",
            "Epoch 167/200\n",
            "5/5 [==============================] - 0s 5ms/step - loss: 0.0498 - accuracy: 1.0000\n",
            "Epoch 168/200\n",
            "5/5 [==============================] - 0s 5ms/step - loss: 0.0442 - accuracy: 1.0000\n",
            "Epoch 169/200\n",
            "5/5 [==============================] - 0s 4ms/step - loss: 0.0854 - accuracy: 0.9545\n",
            "Epoch 170/200\n",
            "5/5 [==============================] - 0s 4ms/step - loss: 0.0327 - accuracy: 1.0000\n",
            "Epoch 171/200\n",
            "5/5 [==============================] - 0s 4ms/step - loss: 0.0552 - accuracy: 1.0000\n",
            "Epoch 172/200\n",
            "5/5 [==============================] - 0s 4ms/step - loss: 0.0470 - accuracy: 1.0000\n",
            "Epoch 173/200\n",
            "5/5 [==============================] - 0s 4ms/step - loss: 0.0393 - accuracy: 1.0000\n",
            "Epoch 174/200\n",
            "5/5 [==============================] - 0s 4ms/step - loss: 0.0540 - accuracy: 1.0000\n",
            "Epoch 175/200\n",
            "5/5 [==============================] - 0s 3ms/step - loss: 0.1591 - accuracy: 0.9091\n",
            "Epoch 176/200\n",
            "5/5 [==============================] - 0s 4ms/step - loss: 0.0639 - accuracy: 1.0000\n",
            "Epoch 177/200\n",
            "5/5 [==============================] - 0s 4ms/step - loss: 0.0738 - accuracy: 1.0000\n",
            "Epoch 178/200\n",
            "5/5 [==============================] - 0s 4ms/step - loss: 0.0702 - accuracy: 1.0000\n",
            "Epoch 179/200\n",
            "5/5 [==============================] - 0s 4ms/step - loss: 0.0572 - accuracy: 1.0000\n",
            "Epoch 180/200\n",
            "5/5 [==============================] - 0s 4ms/step - loss: 0.0605 - accuracy: 0.9545\n",
            "Epoch 181/200\n",
            "5/5 [==============================] - 0s 4ms/step - loss: 0.0594 - accuracy: 1.0000\n",
            "Epoch 182/200\n",
            "5/5 [==============================] - 0s 4ms/step - loss: 0.0736 - accuracy: 1.0000\n",
            "Epoch 183/200\n",
            "5/5 [==============================] - 0s 4ms/step - loss: 0.0184 - accuracy: 1.0000\n",
            "Epoch 184/200\n",
            "5/5 [==============================] - 0s 4ms/step - loss: 0.0723 - accuracy: 1.0000\n",
            "Epoch 185/200\n",
            "5/5 [==============================] - 0s 4ms/step - loss: 0.0185 - accuracy: 1.0000\n",
            "Epoch 186/200\n",
            "5/5 [==============================] - 0s 3ms/step - loss: 0.0517 - accuracy: 1.0000\n",
            "Epoch 187/200\n",
            "5/5 [==============================] - 0s 4ms/step - loss: 0.0436 - accuracy: 1.0000\n",
            "Epoch 188/200\n",
            "5/5 [==============================] - 0s 4ms/step - loss: 0.0856 - accuracy: 0.9545\n",
            "Epoch 189/200\n",
            "5/5 [==============================] - 0s 5ms/step - loss: 0.0676 - accuracy: 1.0000\n",
            "Epoch 190/200\n",
            "5/5 [==============================] - 0s 3ms/step - loss: 0.0467 - accuracy: 1.0000\n",
            "Epoch 191/200\n",
            "5/5 [==============================] - 0s 4ms/step - loss: 0.0676 - accuracy: 1.0000\n",
            "Epoch 192/200\n",
            "5/5 [==============================] - 0s 3ms/step - loss: 0.0666 - accuracy: 1.0000\n",
            "Epoch 193/200\n",
            "5/5 [==============================] - 0s 3ms/step - loss: 0.0344 - accuracy: 1.0000\n",
            "Epoch 194/200\n",
            "5/5 [==============================] - 0s 3ms/step - loss: 0.1124 - accuracy: 1.0000\n",
            "Epoch 195/200\n",
            "5/5 [==============================] - 0s 4ms/step - loss: 0.0450 - accuracy: 1.0000\n",
            "Epoch 196/200\n",
            "5/5 [==============================] - 0s 4ms/step - loss: 0.0324 - accuracy: 1.0000\n",
            "Epoch 197/200\n",
            "5/5 [==============================] - 0s 4ms/step - loss: 0.0320 - accuracy: 1.0000\n",
            "Epoch 198/200\n",
            "5/5 [==============================] - 0s 3ms/step - loss: 0.0302 - accuracy: 1.0000\n",
            "Epoch 199/200\n",
            "5/5 [==============================] - 0s 4ms/step - loss: 0.0138 - accuracy: 1.0000\n",
            "Epoch 200/200\n",
            "5/5 [==============================] - 0s 4ms/step - loss: 0.0321 - accuracy: 1.0000\n"
          ]
        }
      ]
    },
    {
      "cell_type": "code",
      "source": [
        "model.save('chatbot_model.h5')\n",
        "print('Done')"
      ],
      "metadata": {
        "colab": {
          "base_uri": "https://localhost:8080/"
        },
        "id": "75FKszV7f_JW",
        "outputId": "bec4776d-270b-408f-c986-5488d338f430"
      },
      "execution_count": 59,
      "outputs": [
        {
          "output_type": "stream",
          "name": "stdout",
          "text": [
            "Done\n"
          ]
        },
        {
          "output_type": "stream",
          "name": "stderr",
          "text": [
            "/usr/local/lib/python3.10/dist-packages/keras/src/engine/training.py:3103: UserWarning: You are saving your model as an HDF5 file via `model.save()`. This file format is considered legacy. We recommend using instead the native Keras format, e.g. `model.save('my_model.keras')`.\n",
            "  saving_api.save_model(\n"
          ]
        }
      ]
    },
    {
      "cell_type": "code",
      "source": [
        "words = pickle.load(open('words.pkl', 'rb'))\n",
        "classes = pickle.load(open('classes.pkl', 'rb'))\n",
        "model = load_model('chatbot_model.h5')"
      ],
      "metadata": {
        "id": "SaRFnFJ4g2Qj"
      },
      "execution_count": 60,
      "outputs": []
    },
    {
      "cell_type": "code",
      "source": [
        "def clean_up_sen(sentence):\n",
        "  sentence_word=nltk.word_tokenize(sentence)\n",
        "  sentence_word=[lemmatizer.lemmatize(word) for word in sentence_word]\n",
        "  return sentence_word"
      ],
      "metadata": {
        "id": "Kfy4whIHjjG4"
      },
      "execution_count": 61,
      "outputs": []
    },
    {
      "cell_type": "code",
      "source": [],
      "metadata": {
        "id": "04YJEJwAj9CU"
      },
      "execution_count": null,
      "outputs": []
    }
  ]
}